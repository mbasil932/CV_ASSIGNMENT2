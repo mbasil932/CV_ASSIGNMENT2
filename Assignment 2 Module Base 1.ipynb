{
 "cells": [
  {
   "cell_type": "code",
   "execution_count": 4,
   "metadata": {
    "colab": {
     "base_uri": "https://localhost:8080/"
    },
    "id": "TOG2VaLub55l",
    "outputId": "0c44a24a-4070-4172-9acb-bf003f3bd4e0"
   },
   "outputs": [],
   "source": [
    "from keras.layers import Input, Lambda, Dense, Flatten\n",
    "from keras.models import Model\n",
    "from keras.applications.vgg19 import VGG19\n",
    "from keras.applications.vgg19 import preprocess_input\n",
    "from keras.preprocessing import image\n",
    "from keras.preprocessing.image import ImageDataGenerator\n",
    "from keras.models import Sequential\n",
    "import numpy as np\n",
    "from glob import glob\n",
    "import matplotlib.pyplot as plt"
   ]
  },
  {
   "cell_type": "code",
   "execution_count": 10,
   "metadata": {
    "colab": {
     "base_uri": "https://localhost:8080/"
    },
    "id": "pUDtrtBA1MR2",
    "outputId": "eb6a6687-de64-48da-92d5-70f7cfb00a91"
   },
   "outputs": [
    {
     "name": "stdout",
     "output_type": "stream",
     "text": [
      "Downloading data from https://storage.googleapis.com/tensorflow/keras-applications/vgg19/vgg19_weights_tf_dim_ordering_tf_kernels_notop.h5\n",
      "80142336/80134624 [==============================] - 2s 0us/step\n"
     ]
    }
   ],
   "source": [
    "IMAGE_SIZE = [150, 150]\n",
    "\n",
    "train_path = 'chest_xray/train'\n",
    "test_path = 'chest_xray/test'\n",
    "\n",
    "# add preprocessing layer to the front of VGG\n",
    "vgg = VGG19(input_shape=IMAGE_SIZE + [3], weights='imagenet', include_top=False)\n",
    "\n",
    "# don't train existing weights\n",
    "for layer in vgg.layers:\n",
    "  layer.trainable = False\n",
    "\n",
    "\n",
    "vgg.get_layer('block5_conv4').trainable = True\n",
    "vgg.get_layer('block5_conv3').trainable = True\n",
    "vgg.get_layer('block5_conv2').trainable = True\n",
    "  \n",
    "  # useful for getting number of classes\n",
    "folders = glob('/content/seg_train/seg_train/*')\n",
    "  \n",
    "\n",
    "# our layers - you can add more if you want\n",
    "layer1 = Flatten()(vgg.output)\n",
    "layer2 = Dense(64, activation='relu')(layer1)\n",
    "prediction = Dense(len(folders), activation='softmax')(layer2)\n",
    "# create a model object\n",
    "model = Model(inputs=vgg.input, outputs=prediction)\n"
   ]
  },
  {
   "cell_type": "code",
   "execution_count": 11,
   "metadata": {
    "colab": {
     "base_uri": "https://localhost:8080/"
    },
    "id": "q9JGBPzWm8al",
    "outputId": "00816cac-1232-4ece-bae2-2fbb77bbe528"
   },
   "outputs": [
    {
     "name": "stdout",
     "output_type": "stream",
     "text": [
      "Model: \"model\"\n",
      "_________________________________________________________________\n",
      "Layer (type)                 Output Shape              Param #   \n",
      "=================================================================\n",
      "input_1 (InputLayer)         [(None, 150, 150, 3)]     0         \n",
      "_________________________________________________________________\n",
      "block1_conv1 (Conv2D)        (None, 150, 150, 64)      1792      \n",
      "_________________________________________________________________\n",
      "block1_conv2 (Conv2D)        (None, 150, 150, 64)      36928     \n",
      "_________________________________________________________________\n",
      "block1_pool (MaxPooling2D)   (None, 75, 75, 64)        0         \n",
      "_________________________________________________________________\n",
      "block2_conv1 (Conv2D)        (None, 75, 75, 128)       73856     \n",
      "_________________________________________________________________\n",
      "block2_conv2 (Conv2D)        (None, 75, 75, 128)       147584    \n",
      "_________________________________________________________________\n",
      "block2_pool (MaxPooling2D)   (None, 37, 37, 128)       0         \n",
      "_________________________________________________________________\n",
      "block3_conv1 (Conv2D)        (None, 37, 37, 256)       295168    \n",
      "_________________________________________________________________\n",
      "block3_conv2 (Conv2D)        (None, 37, 37, 256)       590080    \n",
      "_________________________________________________________________\n",
      "block3_conv3 (Conv2D)        (None, 37, 37, 256)       590080    \n",
      "_________________________________________________________________\n",
      "block3_conv4 (Conv2D)        (None, 37, 37, 256)       590080    \n",
      "_________________________________________________________________\n",
      "block3_pool (MaxPooling2D)   (None, 18, 18, 256)       0         \n",
      "_________________________________________________________________\n",
      "block4_conv1 (Conv2D)        (None, 18, 18, 512)       1180160   \n",
      "_________________________________________________________________\n",
      "block4_conv2 (Conv2D)        (None, 18, 18, 512)       2359808   \n",
      "_________________________________________________________________\n",
      "block4_conv3 (Conv2D)        (None, 18, 18, 512)       2359808   \n",
      "_________________________________________________________________\n",
      "block4_conv4 (Conv2D)        (None, 18, 18, 512)       2359808   \n",
      "_________________________________________________________________\n",
      "block4_pool (MaxPooling2D)   (None, 9, 9, 512)         0         \n",
      "_________________________________________________________________\n",
      "block5_conv1 (Conv2D)        (None, 9, 9, 512)         2359808   \n",
      "_________________________________________________________________\n",
      "block5_conv2 (Conv2D)        (None, 9, 9, 512)         2359808   \n",
      "_________________________________________________________________\n",
      "block5_conv3 (Conv2D)        (None, 9, 9, 512)         2359808   \n",
      "_________________________________________________________________\n",
      "block5_conv4 (Conv2D)        (None, 9, 9, 512)         2359808   \n",
      "_________________________________________________________________\n",
      "block5_pool (MaxPooling2D)   (None, 4, 4, 512)         0         \n",
      "_________________________________________________________________\n",
      "flatten (Flatten)            (None, 8192)              0         \n",
      "_________________________________________________________________\n",
      "dense (Dense)                (None, 64)                524352    \n",
      "_________________________________________________________________\n",
      "dense_1 (Dense)              (None, 6)                 390       \n",
      "=================================================================\n",
      "Total params: 20,549,126\n",
      "Trainable params: 7,604,166\n",
      "Non-trainable params: 12,944,960\n",
      "_________________________________________________________________\n"
     ]
    }
   ],
   "source": [
    "from keras.optimizers import SGD\n",
    "sgd = SGD(lr=0.001, decay=1e-7, momentum=.9)\n",
    "# view the structure of the model\n",
    "model.summary()\n",
    "model.compile(\n",
    "  loss='categorical_crossentropy',\n",
    "  optimizer= sgd,\n",
    "  metrics=['accuracy']\n",
    ")\n"
   ]
  },
  {
   "cell_type": "code",
   "execution_count": 12,
   "metadata": {
    "colab": {
     "base_uri": "https://localhost:8080/"
    },
    "id": "dOV_B3pDqXxs",
    "outputId": "017d5a4a-e28c-4fe6-e842-244a137bf3d3"
   },
   "outputs": [
    {
     "name": "stdout",
     "output_type": "stream",
     "text": [
      "Found 14034 images belonging to 6 classes.\n",
      "Found 3000 images belonging to 6 classes.\n"
     ]
    }
   ],
   "source": [
    "from keras.preprocessing.image import ImageDataGenerator\n",
    "\n",
    "train_datagen = ImageDataGenerator(rescale=1. / 255,\n",
    "                                   rotation_range=40,\n",
    "                                   width_shift_range=0.2,\n",
    "                                   height_shift_range=0.2,\n",
    "                                   shear_range=0.2,\n",
    "                                   zoom_range=0.2,\n",
    "                                   horizontal_flip=True,\n",
    "                                   fill_mode='nearest')\n",
    "\n",
    "test_datagen = ImageDataGenerator(rescale = 1./255)\n",
    "\n",
    "\n",
    "training_set = train_datagen.flow_from_directory('/content/seg_train/seg_train',\n",
    "                                                 target_size = (150, 150),\n",
    "                                                 batch_size = 64,\n",
    "                                                 shuffle = True,\n",
    "                                                 class_mode = 'categorical')\n",
    "\n",
    "test_set = test_datagen.flow_from_directory('/content/seg_test/seg_test',\n",
    "                                            target_size = (150, 150),\n",
    "                                            batch_size = 64,\n",
    "                                            class_mode = 'categorical')\n",
    "\n"
   ]
  },
  {
   "cell_type": "code",
   "execution_count": 13,
   "metadata": {
    "colab": {
     "base_uri": "https://localhost:8080/"
    },
    "id": "J10YsCuPzwpa",
    "outputId": "2e572083-78cc-42ab-b4af-5b776f9ba2ea"
   },
   "outputs": [
    {
     "name": "stderr",
     "output_type": "stream",
     "text": [
      "/usr/local/lib/python3.6/dist-packages/tensorflow/python/keras/engine/training.py:1844: UserWarning: `Model.fit_generator` is deprecated and will be removed in a future version. Please use `Model.fit`, which supports generators.\n",
      "  warnings.warn('`Model.fit_generator` is deprecated and '\n"
     ]
    },
    {
     "name": "stdout",
     "output_type": "stream",
     "text": [
      "Epoch 1/25\n",
      "220/220 [==============================] - 88s 370ms/step - loss: 0.9924 - accuracy: 0.6052 - val_loss: 0.4334 - val_accuracy: 0.8400\n",
      "Epoch 2/25\n",
      "220/220 [==============================] - 80s 364ms/step - loss: 0.4909 - accuracy: 0.8165 - val_loss: 0.3915 - val_accuracy: 0.8530\n",
      "Epoch 3/25\n",
      "220/220 [==============================] - 80s 364ms/step - loss: 0.4248 - accuracy: 0.8423 - val_loss: 0.3111 - val_accuracy: 0.8870\n",
      "Epoch 4/25\n",
      "220/220 [==============================] - 80s 365ms/step - loss: 0.3818 - accuracy: 0.8616 - val_loss: 0.3291 - val_accuracy: 0.8843\n",
      "Epoch 5/25\n",
      "220/220 [==============================] - 80s 364ms/step - loss: 0.3546 - accuracy: 0.8707 - val_loss: 0.3380 - val_accuracy: 0.8793\n",
      "Epoch 6/25\n",
      "220/220 [==============================] - 80s 364ms/step - loss: 0.3425 - accuracy: 0.8742 - val_loss: 0.2940 - val_accuracy: 0.8937\n",
      "Epoch 7/25\n",
      "220/220 [==============================] - 80s 362ms/step - loss: 0.3297 - accuracy: 0.8804 - val_loss: 0.2964 - val_accuracy: 0.8897\n",
      "Epoch 8/25\n",
      "220/220 [==============================] - 80s 363ms/step - loss: 0.3296 - accuracy: 0.8817 - val_loss: 0.2730 - val_accuracy: 0.9013\n",
      "Epoch 9/25\n",
      "220/220 [==============================] - 79s 361ms/step - loss: 0.3183 - accuracy: 0.8803 - val_loss: 0.2923 - val_accuracy: 0.8910\n",
      "Epoch 10/25\n",
      "220/220 [==============================] - 80s 363ms/step - loss: 0.3031 - accuracy: 0.8905 - val_loss: 0.2798 - val_accuracy: 0.8950\n",
      "Epoch 11/25\n",
      "220/220 [==============================] - 80s 363ms/step - loss: 0.2879 - accuracy: 0.8978 - val_loss: 0.2630 - val_accuracy: 0.9063\n",
      "Epoch 12/25\n",
      "220/220 [==============================] - 80s 363ms/step - loss: 0.2747 - accuracy: 0.9030 - val_loss: 0.2754 - val_accuracy: 0.9013\n",
      "Epoch 13/25\n",
      "220/220 [==============================] - 80s 363ms/step - loss: 0.2527 - accuracy: 0.9061 - val_loss: 0.2750 - val_accuracy: 0.9017\n",
      "Epoch 14/25\n",
      "220/220 [==============================] - 80s 363ms/step - loss: 0.2665 - accuracy: 0.9007 - val_loss: 0.2717 - val_accuracy: 0.9003\n",
      "Epoch 15/25\n",
      "220/220 [==============================] - 80s 362ms/step - loss: 0.2720 - accuracy: 0.9003 - val_loss: 0.2822 - val_accuracy: 0.9017\n",
      "Epoch 16/25\n",
      "220/220 [==============================] - 80s 363ms/step - loss: 0.2535 - accuracy: 0.9092 - val_loss: 0.2783 - val_accuracy: 0.8947\n",
      "Epoch 17/25\n",
      "220/220 [==============================] - 80s 362ms/step - loss: 0.2388 - accuracy: 0.9119 - val_loss: 0.2961 - val_accuracy: 0.8920\n",
      "Epoch 18/25\n",
      "220/220 [==============================] - 80s 362ms/step - loss: 0.2444 - accuracy: 0.9106 - val_loss: 0.2647 - val_accuracy: 0.9067\n",
      "Epoch 19/25\n",
      "220/220 [==============================] - 80s 362ms/step - loss: 0.2298 - accuracy: 0.9140 - val_loss: 0.3152 - val_accuracy: 0.8930\n",
      "Epoch 20/25\n",
      "220/220 [==============================] - 80s 363ms/step - loss: 0.2368 - accuracy: 0.9127 - val_loss: 0.3229 - val_accuracy: 0.8870\n",
      "Epoch 21/25\n",
      "220/220 [==============================] - 80s 362ms/step - loss: 0.2319 - accuracy: 0.9147 - val_loss: 0.2516 - val_accuracy: 0.9093\n",
      "Epoch 22/25\n",
      "220/220 [==============================] - 80s 362ms/step - loss: 0.2304 - accuracy: 0.9160 - val_loss: 0.2821 - val_accuracy: 0.9010\n",
      "Epoch 23/25\n",
      "220/220 [==============================] - 80s 363ms/step - loss: 0.2195 - accuracy: 0.9172 - val_loss: 0.2634 - val_accuracy: 0.9067\n",
      "Epoch 24/25\n",
      "220/220 [==============================] - 80s 362ms/step - loss: 0.2130 - accuracy: 0.9242 - val_loss: 0.2635 - val_accuracy: 0.9027\n",
      "Epoch 25/25\n",
      "220/220 [==============================] - 80s 362ms/step - loss: 0.2104 - accuracy: 0.9230 - val_loss: 0.2661 - val_accuracy: 0.9067\n"
     ]
    }
   ],
   "source": [
    "r = model.fit_generator(generator=training_set,\n",
    "                    validation_data=test_set,\n",
    "                    epochs = 25,\n",
    "                    steps_per_epoch=len(training_set),\n",
    "                    validation_steps=len(test_set))"
   ]
  },
  {
   "cell_type": "code",
   "execution_count": 14,
   "metadata": {
    "id": "JlUSk2nkNIy8"
   },
   "outputs": [],
   "source": [
    "# save the model's trained weights\n",
    "model.save_weights('vgg_transfer_trained_wts_sgd_64_BS.h5')\n",
    "!cp \"/content/vgg_transfer_trained_wts_sgd_64_BS.h5\" \"/content/drive/MyDrive/\""
   ]
  },
  {
   "cell_type": "code",
   "execution_count": 15,
   "metadata": {
    "colab": {
     "base_uri": "https://localhost:8080/",
     "height": 530
    },
    "id": "0RELdMsDhbjP",
    "outputId": "ceb23a17-16e5-4d74-f840-2cb8745a3af3"
   },
   "outputs": [
    {
     "data": {
      "image/png": "[encoded data removed]",
      "text/plain": [
       "<Figure size 432x288 with 1 Axes>"
      ]
     },
     "metadata": {
      "needs_background": "light",
      "tags": []
     },
     "output_type": "display_data"
    },
    {
     "data": {
      "image/png": "[encoded data removed]",
      "text/plain": [
       "<Figure size 432x288 with 1 Axes>"
      ]
     },
     "metadata": {
      "needs_background": "light",
      "tags": []
     },
     "output_type": "display_data"
    },
    {
     "data": {
      "text/plain": [
       "<Figure size 432x288 with 0 Axes>"
      ]
     },
     "metadata": {
      "tags": []
     },
     "output_type": "display_data"
    }
   ],
   "source": [
    "# loss\n",
    "plt.plot(r.history['loss'], label='train loss')\n",
    "plt.plot(r.history['val_loss'], label='val loss')\n",
    "plt.legend()\n",
    "plt.show()\n",
    "plt.savefig('LossVal_loss')\n",
    "\n",
    "# accuracies\n",
    "plt.plot(r.history['accuracy'], label='train acc')\n",
    "plt.plot(r.history['val_accuracy'], label='val acc')\n",
    "plt.legend()\n",
    "plt.show()\n",
    "plt.savefig('AccVal_acc')"
   ]
  },
  {
   "cell_type": "code",
   "execution_count": 16,
   "metadata": {
    "colab": {
     "base_uri": "https://localhost:8080/"
    },
    "id": "Wtys0Ynu5I_d",
    "outputId": "967c76d7-b00a-48c3-fc94-cd80dbd6885d"
   },
   "outputs": [
    {
     "name": "stdout",
     "output_type": "stream",
     "text": [
      "Found 7301 images belonging to 6 classes.\n"
     ]
    },
    {
     "name": "stderr",
     "output_type": "stream",
     "text": [
      "/usr/local/lib/python3.6/dist-packages/tensorflow/python/keras/engine/training.py:1905: UserWarning: `Model.predict_generator` is deprecated and will be removed in a future version. Please use `Model.predict`, which supports generators.\n",
      "  warnings.warn('`Model.predict_generator` is deprecated and '\n"
     ]
    }
   ],
   "source": [
    "pred_datagen = ImageDataGenerator(rescale = 1./255)\n",
    "prediction_set = pred_datagen.flow_from_directory('/content/seg_pred/seg_pred/',\n",
    "                                            target_size = (150, 150),\n",
    "                                            batch_size = 64,\n",
    "                                            shuffle = False,\n",
    "                                            class_mode = 'categorical')\n",
    "\n",
    "pred_original_labels = prediction_set.classes\n",
    "\n",
    "pred_label = model.predict_generator(prediction_set)\n"
   ]
  },
  {
   "cell_type": "code",
   "execution_count": 17,
   "metadata": {
    "colab": {
     "base_uri": "https://localhost:8080/"
    },
    "id": "5vXv5x8rA1i1",
    "outputId": "03e7e662-33b0-41ba-cc11-f2b9bfd2081c"
   },
   "outputs": [
    {
     "name": "stdout",
     "output_type": "stream",
     "text": [
      "Confusion Matrix\n",
      "[[1060    3    0    0    2   79]\n",
      " [   6 1143    2    1    3   11]\n",
      " [   6    6 1018  240   53    7]\n",
      " [   6    6   70 1152   60    3]\n",
      " [   8    4   18   61 1028    9]\n",
      " [  74    8    2    3    5 1144]]\n"
     ]
    }
   ],
   "source": [
    "# Plotting the confusion matrix\n",
    "from sklearn.metrics import confusion_matrix\n",
    "y_pred = np.argmax(pred_label, axis=1)\n",
    "print('Confusion Matrix')\n",
    "print(confusion_matrix(prediction_set.classes, y_pred))"
   ]
  }
 ],
 "metadata": {
  "accelerator": "GPU",
  "colab": {
   "collapsed_sections": [],
   "name": "Assignment3.ipynb",
   "provenance": []
  },
  "kernelspec": {
   "display_name": "Python 3 (ipykernel)",
   "language": "python",
   "name": "python3"
  },
  "language_info": {
   "codemirror_mode": {
    "name": "ipython",
    "version": 3
   },
   "file_extension": ".py",
   "mimetype": "text/x-python",
   "name": "python",
   "nbconvert_exporter": "python",
   "pygments_lexer": "ipython3",
   "version": "3.9.7"
  }
 },
 "nbformat": 4,
 "nbformat_minor": 4
}
